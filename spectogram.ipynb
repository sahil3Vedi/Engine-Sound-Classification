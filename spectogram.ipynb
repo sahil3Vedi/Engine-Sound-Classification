{
  "nbformat": 4,
  "nbformat_minor": 0,
  "metadata": {
    "colab": {
      "name": "spectogram.ipynb",
      "provenance": [],
      "collapsed_sections": [],
      "include_colab_link": true
    },
    "kernelspec": {
      "name": "python3",
      "display_name": "Python 3"
    }
  },
  "cells": [
    {
      "cell_type": "markdown",
      "metadata": {
        "id": "view-in-github",
        "colab_type": "text"
      },
      "source": [
        "<a href=\"https://colab.research.google.com/github/sahil3Vedi/Engine-Sound-Classification/blob/master/spectogram.ipynb\" target=\"_parent\"><img src=\"https://colab.research.google.com/assets/colab-badge.svg\" alt=\"Open In Colab\"/></a>"
      ]
    },
    {
      "cell_type": "code",
      "metadata": {
        "id": "T0ap-0s9MR4G",
        "colab_type": "code",
        "colab": {
          "base_uri": "https://localhost:8080/",
          "height": 122
        },
        "outputId": "a8f05be2-fea4-4731-d01d-31fa63bac161"
      },
      "source": [
        "from google.colab import drive\n",
        "import pandas as pd\n",
        "import os\n",
        "drive.mount('/content/drive')\n",
        "import numpy as np\n",
        "from matplotlib import pyplot as plt\n",
        "import scipy.io.wavfile as wav\n",
        "from numpy.lib import stride_tricks\n"
      ],
      "execution_count": 1,
      "outputs": [
        {
          "output_type": "stream",
          "text": [
            "Go to this URL in a browser: https://accounts.google.com/o/oauth2/auth?client_id=947318989803-6bn6qk8qdgf4n4g3pfee6491hc0brc4i.apps.googleusercontent.com&redirect_uri=urn%3Aietf%3Awg%3Aoauth%3A2.0%3Aoob&scope=email%20https%3A%2F%2Fwww.googleapis.com%2Fauth%2Fdocs.test%20https%3A%2F%2Fwww.googleapis.com%2Fauth%2Fdrive%20https%3A%2F%2Fwww.googleapis.com%2Fauth%2Fdrive.photos.readonly%20https%3A%2F%2Fwww.googleapis.com%2Fauth%2Fpeopleapi.readonly&response_type=code\n",
            "\n",
            "Enter your authorization code:\n",
            "··········\n",
            "Mounted at /content/drive\n"
          ],
          "name": "stdout"
        }
      ]
    },
    {
      "cell_type": "code",
      "metadata": {
        "id": "nYKehEc1RY0c",
        "colab_type": "code",
        "colab": {}
      },
      "source": [
        "def stft(sig, frameSize, overlapFac=0.5, window=np.hanning):\n",
        "    win = window(frameSize)\n",
        "    hopSize = int(frameSize - np.floor(overlapFac * frameSize))\n",
        "\n",
        "    # zeros at beginning (thus center of 1st window should be for sample nr. 0)   \n",
        "    samples = np.append(np.zeros(int(np.floor(frameSize/2.0))), sig)    \n",
        "    # cols for windowing\n",
        "    cols = np.ceil( (len(samples) - frameSize) / float(hopSize)) + 1\n",
        "    # zeros at end (thus samples can be fully covered by frames)\n",
        "    samples = np.append(samples, np.zeros(frameSize))\n",
        "\n",
        "    frames = stride_tricks.as_strided(samples, shape=(int(cols), frameSize), strides=(samples.strides[0]*hopSize, samples.strides[0])).copy()\n",
        "    frames *= win\n",
        "\n",
        "    return np.fft.rfft(frames)"
      ],
      "execution_count": 0,
      "outputs": []
    },
    {
      "cell_type": "code",
      "metadata": {
        "id": "VMkews76Rp7l",
        "colab_type": "code",
        "colab": {}
      },
      "source": [
        "def logscale_spec(spec, sr=44100, factor=20.):\n",
        "    timebins, freqbins = np.shape(spec)\n",
        "\n",
        "    scale = np.linspace(0, 1, freqbins) ** factor\n",
        "    scale *= (freqbins-1)/max(scale)\n",
        "    scale = np.unique(np.round(scale))\n",
        "\n",
        "    # create spectrogram with new freq bins\n",
        "    newspec = np.complex128(np.zeros([timebins, len(scale)]))\n",
        "    for i in range(0, len(scale)):        \n",
        "        if i == len(scale)-1:\n",
        "            newspec[:,i] = np.sum(spec[:,int(scale[i]):], axis=1)\n",
        "        else:        \n",
        "            newspec[:,i] = np.sum(spec[:,int(scale[i]):int(scale[i+1])], axis=1)\n",
        "\n",
        "    # list center freq of bins\n",
        "    allfreqs = np.abs(np.fft.fftfreq(freqbins*2, 1./sr)[:freqbins+1])\n",
        "    freqs = []\n",
        "    for i in range(0, len(scale)):\n",
        "        if i == len(scale)-1:\n",
        "            freqs += [np.mean(allfreqs[int(scale[i]):])]\n",
        "        else:\n",
        "            freqs += [np.mean(allfreqs[int(scale[i]):int(scale[i+1])])]\n",
        "\n",
        "    return newspec, freqs"
      ],
      "execution_count": 0,
      "outputs": []
    },
    {
      "cell_type": "code",
      "metadata": {
        "id": "5IcUKfSSR6Uh",
        "colab_type": "code",
        "colab": {}
      },
      "source": [
        "def plotstft(audiopath, binsize=2**10, plotpath=None, colormap=\"jet\"):\n",
        "    samplerate, samples = wav.read(audiopath)\n",
        "\n",
        "    s = stft(samples, binsize)\n",
        "\n",
        "    sshow, freq = logscale_spec(s, factor=1.0, sr=samplerate)\n",
        "\n",
        "    ims = 20.*np.log10(np.abs(sshow)/10e-6) # amplitude to decibel\n",
        "\n",
        "    timebins, freqbins = np.shape(ims)\n",
        "\n",
        "    print(\"timebins: \", timebins)\n",
        "    print(\"freqbins: \", freqbins)\n",
        "\n",
        "    plt.figure(figsize=(15, 7.5))\n",
        "    plt.imshow(np.transpose(ims), origin=\"lower\", aspect=\"auto\", cmap=colormap, interpolation=\"none\")\n",
        "    plt.colorbar()\n",
        "\n",
        "    plt.xlabel(\"time (s)\")\n",
        "    plt.ylabel(\"frequency (hz)\")\n",
        "    plt.xlim([0, timebins-1])\n",
        "    plt.ylim([0, freqbins])\n",
        "\n",
        "    xlocs = np.float32(np.linspace(0, timebins-1, 5))\n",
        "    plt.xticks(xlocs, [\"%.02f\" % l for l in ((xlocs*len(samples)/timebins)+(0.5*binsize))/samplerate])\n",
        "    ylocs = np.int16(np.round(np.linspace(0, freqbins-1, 10)))\n",
        "    plt.yticks(ylocs, [\"%.02f\" % freq[i] for i in ylocs])\n",
        "    \n",
        "    #if plotpath:\n",
        "    #    plt.savefig(plotpath, bbox_inches=\"tight\")\n",
        "    #else:\n",
        "    #    plt.show()\n",
        "    filesavename = audiopath[:-4] + '.jpg'\n",
        "    plt.savefig(filesavename, bbox_inches='tight')\n",
        "    plt.clf()\n",
        "    return ims"
      ],
      "execution_count": 0,
      "outputs": []
    },
    {
      "cell_type": "code",
      "metadata": {
        "id": "txL2k9p6SFSd",
        "colab_type": "code",
        "outputId": "95547fd9-edbe-4d7d-a6f1-55dcaf09dfd2",
        "colab": {
          "base_uri": "https://localhost:8080/",
          "height": 323
        }
      },
      "source": [
        "DATA_DIR = 'drive/My Drive/Engine Classification'\n",
        "CATEGORY_1 = \"Ford\"\n",
        "CATEGORY_2 = \"Mitsubishi\"\n",
        "CATEGORY_3 = \"Lamborghini\"\n",
        "DS_1 = os.path.join(DATA_DIR, CATEGORY_1)\n",
        "DS_2 = os.path.join(DATA_DIR, CATEGORY_2)\n",
        "DS_3 = os.path.join(DATA_DIR, CATEGORY_3)\n",
        "\n",
        "for FILE_NAME in os.listdir(DS_3):\n",
        "    FILE_PATH = os.path.join(DS_3,FILE_NAME)\n",
        "    if FILE_NAME.endswith(\".wav\"): \n",
        "        ims = plotstft(FILE_PATH)\n",
        "        continue\n",
        "    else:\n",
        "        continue"
      ],
      "execution_count": 9,
      "outputs": [
        {
          "output_type": "stream",
          "text": [
            "timebins:  862\n",
            "freqbins:  513\n",
            "timebins:  862\n",
            "freqbins:  513\n",
            "timebins:  862\n",
            "freqbins:  513\n",
            "timebins:  862\n",
            "freqbins:  513\n",
            "timebins:  862\n",
            "freqbins:  513\n",
            "timebins:  862\n",
            "freqbins:  513\n"
          ],
          "name": "stdout"
        },
        {
          "output_type": "display_data",
          "data": {
            "text/plain": [
              "<Figure size 1080x540 with 0 Axes>"
            ]
          },
          "metadata": {
            "tags": []
          }
        },
        {
          "output_type": "display_data",
          "data": {
            "text/plain": [
              "<Figure size 1080x540 with 0 Axes>"
            ]
          },
          "metadata": {
            "tags": []
          }
        },
        {
          "output_type": "display_data",
          "data": {
            "text/plain": [
              "<Figure size 1080x540 with 0 Axes>"
            ]
          },
          "metadata": {
            "tags": []
          }
        },
        {
          "output_type": "display_data",
          "data": {
            "text/plain": [
              "<Figure size 1080x540 with 0 Axes>"
            ]
          },
          "metadata": {
            "tags": []
          }
        },
        {
          "output_type": "display_data",
          "data": {
            "text/plain": [
              "<Figure size 1080x540 with 0 Axes>"
            ]
          },
          "metadata": {
            "tags": []
          }
        },
        {
          "output_type": "display_data",
          "data": {
            "text/plain": [
              "<Figure size 1080x540 with 0 Axes>"
            ]
          },
          "metadata": {
            "tags": []
          }
        }
      ]
    }
  ]
}