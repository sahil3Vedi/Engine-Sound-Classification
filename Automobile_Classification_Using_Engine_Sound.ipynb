{
  "nbformat": 4,
  "nbformat_minor": 0,
  "metadata": {
    "colab": {
      "name": "Automobile Classification Using Engine Sound.ipynb",
      "provenance": [],
      "collapsed_sections": [],
      "include_colab_link": true
    },
    "kernelspec": {
      "name": "python3",
      "display_name": "Python 3"
    }
  },
  "cells": [
    {
      "cell_type": "markdown",
      "metadata": {
        "id": "view-in-github",
        "colab_type": "text"
      },
      "source": [
        "<a href=\"https://colab.research.google.com/github/sahil3Vedi/Engine-Sound-Classification/blob/master/Automobile_Classification_Using_Engine_Sound.ipynb\" target=\"_parent\"><img src=\"https://colab.research.google.com/assets/colab-badge.svg\" alt=\"Open In Colab\"/></a>"
      ]
    },
    {
      "cell_type": "code",
      "metadata": {
        "id": "8Fq2CxL3dM8D",
        "colab_type": "code",
        "outputId": "10f1a421-aa7c-4c04-9775-7f419fbf4064",
        "colab": {
          "base_uri": "https://localhost:8080/",
          "height": 105
        }
      },
      "source": [
        "! pip3 install pydub"
      ],
      "execution_count": 1,
      "outputs": [
        {
          "output_type": "stream",
          "text": [
            "Collecting pydub\n",
            "  Downloading https://files.pythonhosted.org/packages/79/db/eaf620b73a1eec3c8c6f8f5b0b236a50f9da88ad57802154b7ba7664d0b8/pydub-0.23.1-py2.py3-none-any.whl\n",
            "Installing collected packages: pydub\n",
            "Successfully installed pydub-0.23.1\n"
          ],
          "name": "stdout"
        }
      ]
    },
    {
      "cell_type": "code",
      "metadata": {
        "id": "JCnZznoa0IaD",
        "colab_type": "code",
        "colab": {}
      },
      "source": [
        "# Step 1: Import Dependencies\n",
        "from google.colab import drive\n",
        "drive.mount('/content/drive')\n",
        "import os\n",
        "from pydub import AudioSegment\n",
        "import matplotlib.pyplot as plt\n",
        "from scipy.io import wavfile as wav\n",
        "from scipy.fftpack import fft\n",
        "import numpy as np\n",
        "import pandas as pd\n",
        "\n",
        "from sklearn.tree import DecisionTreeClassifier, export_graphviz\n",
        "from sklearn.linear_model import LinearRegression\n",
        "from sklearn.linear_model import SGDRegressor\n",
        "from sklearn.preprocessing import StandardScaler\n",
        "from sklearn.model_selection import train_test_split, cross_val_score\n",
        "from sklearn import model_selection, metrics\n",
        "from sklearn.pipeline import Pipeline\n",
        "from sklearn.metrics import roc_auc_score , classification_report, mean_squared_error, r2_score\n",
        "from sklearn.metrics import precision_score, recall_score, accuracy_score, classification_report\n",
        "from sklearn.model_selection import GridSearchCV\n",
        "from sklearn.pipeline import Pipeline\n",
        "from sklearn.feature_selection import *\n",
        "from sklearn import metrics\n",
        "from sklearn.utils import shuffle\n",
        "\n",
        "from scipy.spatial import distance"
      ],
      "execution_count": 0,
      "outputs": []
    },
    {
      "cell_type": "code",
      "metadata": {
        "colab_type": "code",
        "id": "Ge0GNFNrpgTp",
        "colab": {}
      },
      "source": [
        "# Step 2: Load Data into Project\n",
        "DATA_DIR = 'drive/My Drive/Engine Data'\n",
        "number_samples = 60\n",
        "df_list = []\n",
        "categories = []\n",
        "\n",
        "for each_name in os.listdir(DATA_DIR):\n",
        "  AUDIO_FILE = os.path.join(DATA_DIR,each_name)\n",
        "  rate, data = wav.read(AUDIO_FILE)\n",
        "  categories.append(each_name[:-4])\n",
        "\n",
        "  for counter in range(number_samples):\n",
        "    tempdict = {}\n",
        "    newAudio = data[counter*500:(counter+1)*500]\n",
        "    fft_out = np.abs(fft(newAudio), dtype = float)\n",
        "    fft_norm1 = np.mean(fft_out)\n",
        "    fft_norm2 = np.std(fft_out)\n",
        "    fft_label = each_name[:-4]\n",
        "    tempdict[\"FFT\"] = fft_norm1\n",
        "    tempdict[\"Norm\"] = fft_norm2\n",
        "    tempdict[\"label\"] = fft_label\n",
        "    df_list.append(tempdict) \n",
        "\n",
        "df = pd.DataFrame(df_list)  "
      ],
      "execution_count": 0,
      "outputs": []
    },
    {
      "cell_type": "code",
      "metadata": {
        "id": "zTihvrIl86a5",
        "colab_type": "code",
        "outputId": "a789502a-f831-4703-8dd3-2b9bb7c43449",
        "colab": {
          "base_uri": "https://localhost:8080/",
          "height": 204
        }
      },
      "source": [
        "df.head()"
      ],
      "execution_count": 5,
      "outputs": [
        {
          "output_type": "execute_result",
          "data": {
            "text/html": [
              "<div>\n",
              "<style scoped>\n",
              "    .dataframe tbody tr th:only-of-type {\n",
              "        vertical-align: middle;\n",
              "    }\n",
              "\n",
              "    .dataframe tbody tr th {\n",
              "        vertical-align: top;\n",
              "    }\n",
              "\n",
              "    .dataframe thead th {\n",
              "        text-align: right;\n",
              "    }\n",
              "</style>\n",
              "<table border=\"1\" class=\"dataframe\">\n",
              "  <thead>\n",
              "    <tr style=\"text-align: right;\">\n",
              "      <th></th>\n",
              "      <th>FFT</th>\n",
              "      <th>Norm</th>\n",
              "      <th>label</th>\n",
              "    </tr>\n",
              "  </thead>\n",
              "  <tbody>\n",
              "    <tr>\n",
              "      <th>0</th>\n",
              "      <td>1.001177e+06</td>\n",
              "      <td>5.416206e+05</td>\n",
              "      <td>Skoda_Yeti</td>\n",
              "    </tr>\n",
              "    <tr>\n",
              "      <th>1</th>\n",
              "      <td>1.284359e+08</td>\n",
              "      <td>1.042747e+08</td>\n",
              "      <td>Skoda_Yeti</td>\n",
              "    </tr>\n",
              "    <tr>\n",
              "      <th>2</th>\n",
              "      <td>3.069598e+08</td>\n",
              "      <td>2.412794e+08</td>\n",
              "      <td>Skoda_Yeti</td>\n",
              "    </tr>\n",
              "    <tr>\n",
              "      <th>3</th>\n",
              "      <td>4.867208e+08</td>\n",
              "      <td>4.421068e+08</td>\n",
              "      <td>Skoda_Yeti</td>\n",
              "    </tr>\n",
              "    <tr>\n",
              "      <th>4</th>\n",
              "      <td>6.626031e+08</td>\n",
              "      <td>4.884486e+08</td>\n",
              "      <td>Skoda_Yeti</td>\n",
              "    </tr>\n",
              "  </tbody>\n",
              "</table>\n",
              "</div>"
            ],
            "text/plain": [
              "            FFT          Norm       label\n",
              "0  1.001177e+06  5.416206e+05  Skoda_Yeti\n",
              "1  1.284359e+08  1.042747e+08  Skoda_Yeti\n",
              "2  3.069598e+08  2.412794e+08  Skoda_Yeti\n",
              "3  4.867208e+08  4.421068e+08  Skoda_Yeti\n",
              "4  6.626031e+08  4.884486e+08  Skoda_Yeti"
            ]
          },
          "metadata": {
            "tags": []
          },
          "execution_count": 5
        }
      ]
    },
    {
      "cell_type": "code",
      "metadata": {
        "id": "vV5tf4WSjJWC",
        "colab_type": "code",
        "outputId": "c349544f-ca24-4d5c-d6e0-a4ed7c2f835c",
        "colab": {
          "base_uri": "https://localhost:8080/",
          "height": 306
        }
      },
      "source": [
        "axis1 = df[\"FFT\"][60:]\n",
        "axis2 = df[\"Norm\"][60:]\n",
        "axis3 = df[\"FFT\"][60:120]\n",
        "axis4 = df[\"Norm\"][60:120]\n",
        "axis5 = df[\"FFT\"][:60]\n",
        "axis6 = df[\"Norm\"][:60]\n",
        "\n",
        "plt.plot(axis1, axis2, 'ro')\n",
        "plt.plot(axis3, axis4, 'bo')\n",
        "plt.plot(axis5, axis6, 'go')"
      ],
      "execution_count": 6,
      "outputs": [
        {
          "output_type": "execute_result",
          "data": {
            "text/plain": [
              "[<matplotlib.lines.Line2D at 0x7f45a7fdcf60>]"
            ]
          },
          "metadata": {
            "tags": []
          },
          "execution_count": 6
        },
        {
          "output_type": "display_data",
          "data": {
            "image/png": "[encoded data removed]",
            "text/plain": [
              "<Figure size 432x288 with 1 Axes>"
            ]
          },
          "metadata": {
            "tags": []
          }
        }
      ]
    },
    {
      "cell_type": "code",
      "metadata": {
        "id": "p4wZ7EG21HvW",
        "colab_type": "code",
        "colab": {}
      },
      "source": [
        "# Step 3: Generate Training and Testing Set with Labels\n",
        "df = shuffle(df)\n",
        "df.reset_index(inplace=True, drop=True)\n",
        "\n",
        "features=list(df.columns)\n",
        "features.remove('label')\n",
        "X = df[features]\n",
        "y = df['label']\n",
        "\n",
        "# split dataset to 60% training and 40% testing\n",
        "X_train, X_test, y_train, y_test = model_selection.train_test_split(X,y, test_size=0.4, random_state=0)"
      ],
      "execution_count": 0,
      "outputs": []
    },
    {
      "cell_type": "code",
      "metadata": {
        "id": "0Rg3FWa5BfHz",
        "colab_type": "code",
        "outputId": "80927f69-201e-4ee8-97ab-40f00e374760",
        "colab": {
          "base_uri": "https://localhost:8080/",
          "height": 34
        }
      },
      "source": [
        "print(X_train.shape, y_train.shape)"
      ],
      "execution_count": 8,
      "outputs": [
        {
          "output_type": "stream",
          "text": [
            "(108, 2) (108,)\n"
          ],
          "name": "stdout"
        }
      ]
    },
    {
      "cell_type": "code",
      "metadata": {
        "id": "RpiFZxcU1MRD",
        "colab_type": "code",
        "outputId": "2d0500f8-c636-4487-aa56-8e7f45b7e08c",
        "colab": {
          "base_uri": "https://localhost:8080/",
          "height": 51
        }
      },
      "source": [
        "# Step 4: Model Selection: Linear Vector Quantisation\n",
        "\n",
        "#obtaining initial weights\n",
        "weights = []\n",
        "category_names = []\n",
        "temp_categories = categories\n",
        "for i, j in df.iterrows():\n",
        "  if(len(temp_categories)>0):\n",
        "    category_label = j['label']\n",
        "    if category_label in temp_categories:\n",
        "      temp_categories.remove(category_label)\n",
        "      sample_FFT = j['FFT']\n",
        "      sample_Norm = j['Norm']\n",
        "      temp_weight = [sample_FFT,sample_Norm]\n",
        "      weights.append(temp_weight)\n",
        "      category_names.append(category_label)\n",
        "  else:\n",
        "    continue\n",
        "\n",
        "print(weights)\n",
        "\n",
        "#training the weight vectors iteratively\n",
        "total_samples = (len(category_names)*number_samples)-len(category_names)\n",
        "training_sample_max_index = int(np.floor(total_samples*0.6))\n",
        "learning_rate = 0.1\n",
        "epochs = 50\n",
        "for epoch_counter in range(epochs):\n",
        "  for k in range(0, training_sample_max_index):\n",
        "    selected_sample = df.loc[k]\n",
        "    samp_mean = selected_sample['FFT']\n",
        "    samp_std = selected_sample['Norm']\n",
        "    samp_label = selected_sample['label']\n",
        "    sample_weight = [samp_mean,samp_std]\n",
        "    distances = []\n",
        "    for each_weight in weights:\n",
        "      eucl_dist = distance.euclidean(each_weight, sample_weight)\n",
        "      distances.append(eucl_dist)\n",
        "    min_distance = min(distances)\n",
        "    sample_min_dist_index = distances.index(min_distance)\n",
        "    weight_index = category_names.index(samp_label)\n",
        "    W = weights[weight_index]\n",
        "    Q = np.subtract(sample_weight,W)\n",
        "    R = np.multiply(learning_rate,Q)\n",
        "    if(sample_min_dist_index==weight_index):\n",
        "      weights[weight_index] = np.add(W,R)\n",
        "    else:\n",
        "      weights[weight_index] = np.subtract(W,R)\n",
        "\n",
        "print(weights)\n",
        "        \n"
      ],
      "execution_count": 9,
      "outputs": [
        {
          "output_type": "stream",
          "text": [
            "[[1158871097.793477, 1202486396.4555311], [36802641.384849794, 40674339.61867822], [0.0, 0.0]]\n",
            "[array([1.11997651e+09, 1.38949718e+09]), array([2.17670536e+08, 5.27030004e+08]), array([-3.94253601e+87, -3.09983422e+87])]\n"
          ],
          "name": "stdout"
        }
      ]
    },
    {
      "cell_type": "code",
      "metadata": {
        "id": "BDwIwQOF5Wf9",
        "colab_type": "code",
        "colab": {}
      },
      "source": [
        "# Step 5: Comparing Results"
      ],
      "execution_count": 0,
      "outputs": []
    }
  ]
}