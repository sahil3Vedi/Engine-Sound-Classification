{
  "nbformat": 4,
  "nbformat_minor": 0,
  "metadata": {
    "colab": {
      "name": "Automobile Classification Using Engine Sound.ipynb",
      "provenance": [],
      "collapsed_sections": [],
      "include_colab_link": true
    },
    "kernelspec": {
      "name": "python3",
      "display_name": "Python 3"
    }
  },
  "cells": [
    {
      "cell_type": "markdown",
      "metadata": {
        "id": "view-in-github",
        "colab_type": "text"
      },
      "source": [
        "<a href=\"https://colab.research.google.com/github/sahil3Vedi/Engine-Sound-Classification/blob/master/Automobile_Classification_Using_Engine_Sound.ipynb\" target=\"_parent\"><img src=\"https://colab.research.google.com/assets/colab-badge.svg\" alt=\"Open In Colab\"/></a>"
      ]
    },
    {
      "cell_type": "code",
      "metadata": {
        "id": "8Fq2CxL3dM8D",
        "colab_type": "code",
        "colab": {}
      },
      "source": [
        "! pip3 install pydub"
      ],
      "execution_count": 0,
      "outputs": []
    },
    {
      "cell_type": "code",
      "metadata": {
        "id": "JCnZznoa0IaD",
        "colab_type": "code",
        "colab": {}
      },
      "source": [
        "# Step 1: Import Dependencies\n",
        "from google.colab import drive\n",
        "drive.mount('/content/drive')\n",
        "import os\n",
        "from pydub import AudioSegment\n",
        "import matplotlib.pyplot as plt\n",
        "from scipy.io import wavfile as wav\n",
        "from scipy.fftpack import fft\n",
        "import numpy as np\n",
        "import pandas as pd"
      ],
      "execution_count": 0,
      "outputs": []
    },
    {
      "cell_type": "code",
      "metadata": {
        "colab_type": "code",
        "id": "Ge0GNFNrpgTp",
        "colab": {}
      },
      "source": [
        "# Step 2: Load Data into Project\n",
        "DATA_DIR = 'drive/My Drive/Engine Data'\n",
        "number_samples = 60\n",
        "df_list = []\n",
        "\n",
        "for each_name in os.listdir(DATA_DIR):\n",
        "  AUDIO_FILE = os.path.join(DATA_DIR,each_name)\n",
        "  rate, data = wav.read(AUDIO_FILE)\n",
        "\n",
        "  for counter in range(number_samples):\n",
        "    tempdict = {}\n",
        "    newAudio = data[counter*500:(counter+1)*500]\n",
        "    fft_out = np.array(fft(newAudio), dtype = float)\n",
        "    fft_mean = np.mean(fft_out)\n",
        "    fft_std = np.std(fft_out)\n",
        "    fft_label = each_name[:-4]\n",
        "    tempdict[\"mean\"] = fft_mean\n",
        "    tempdict[\"std\"] = fft_std\n",
        "    tempdict[\"label\"] = fft_label\n",
        "    df_list.append(tempdict) \n",
        "\n",
        "df = pd.DataFrame(df_list)  "
      ],
      "execution_count": 0,
      "outputs": []
    },
    {
      "cell_type": "code",
      "metadata": {
        "id": "vV5tf4WSjJWC",
        "colab_type": "code",
        "outputId": "85c10ee8-98ce-49fc-9841-65616fca6fed",
        "colab": {
          "base_uri": "https://localhost:8080/",
          "height": 306
        }
      },
      "source": [
        "axis1 = df[\"mean\"][60:]\n",
        "axis2 = df[\"std\"][60:]\n",
        "axis3 = df[\"mean\"][60:120]\n",
        "axis4 = df[\"std\"][60:120]\n",
        "axis5 = df[\"mean\"][:60]\n",
        "axis6 = df[\"std\"][:60]\n",
        "\n",
        "plt.plot(axis1, axis2, 'ro')\n",
        "plt.plot(axis3, axis4, 'bo')\n",
        "plt.plot(axis5, axis6, 'go')"
      ],
      "execution_count": 6,
      "outputs": [
        {
          "output_type": "execute_result",
          "data": {
            "text/plain": [
              "[<matplotlib.lines.Line2D at 0x7fa09fc56e48>]"
            ]
          },
          "metadata": {
            "tags": []
          },
          "execution_count": 6
        },
        {
          "output_type": "display_data",
          "data": {
            "image/png": "[encoded data removed]",
            "text/plain": [
              "<Figure size 432x288 with 1 Axes>"
            ]
          },
          "metadata": {
            "tags": []
          }
        }
      ]
    },
    {
      "cell_type": "code",
      "metadata": {
        "id": "p4wZ7EG21HvW",
        "colab_type": "code",
        "colab": {}
      },
      "source": [
        "# Step 3: Generate Training and Testing Set with Labels"
      ],
      "execution_count": 0,
      "outputs": []
    },
    {
      "cell_type": "code",
      "metadata": {
        "id": "RpiFZxcU1MRD",
        "colab_type": "code",
        "colab": {}
      },
      "source": [
        "# Step 4: Model Selection: Linear Vector Quantisation and Feed Forward Neural Nets"
      ],
      "execution_count": 0,
      "outputs": []
    },
    {
      "cell_type": "code",
      "metadata": {
        "id": "BDwIwQOF5Wf9",
        "colab_type": "code",
        "colab": {}
      },
      "source": [
        "# Step 5: Comparing Results"
      ],
      "execution_count": 0,
      "outputs": []
    }
  ]
}